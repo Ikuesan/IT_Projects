{
 "cells": [
  {
   "cell_type": "code",
   "execution_count": 2,
   "id": "8aa8409a",
   "metadata": {},
   "outputs": [],
   "source": [
    "#importing the pandas and numpy library\n",
    "import pandas as pd\n",
    "import numpy as np"
   ]
  },
  {
   "cell_type": "code",
   "execution_count": 9,
   "id": "f4fe864b",
   "metadata": {},
   "outputs": [],
   "source": [
    "#reading in the dataset\n",
    "\n",
    "data = pd.read_csv(\"FoodBalanceSheets_E_Africa_NOFLAG.csv\", encoding=\"latin-1\")"
   ]
  },
  {
   "cell_type": "code",
   "execution_count": 27,
   "id": "1424bcac",
   "metadata": {},
   "outputs": [
    {
     "name": "stdout",
     "output_type": "stream",
     "text": [
      "       Area Code      Area  Item Code           Item  Element Code  \\\n",
      "0              4   Algeria       2501     Population           511   \n",
      "1              4   Algeria       2501     Population          5301   \n",
      "2              4   Algeria       2901    Grand Total           664   \n",
      "3              4   Algeria       2901    Grand Total           674   \n",
      "4              4   Algeria       2901    Grand Total           684   \n",
      "...          ...       ...        ...            ...           ...   \n",
      "60938        181  Zimbabwe       2899  Miscellaneous          5142   \n",
      "60939        181  Zimbabwe       2899  Miscellaneous           645   \n",
      "60940        181  Zimbabwe       2899  Miscellaneous           664   \n",
      "60941        181  Zimbabwe       2899  Miscellaneous           674   \n",
      "60942        181  Zimbabwe       2899  Miscellaneous           684   \n",
      "\n",
      "                                      Element             Unit     Y2014  \\\n",
      "0               Total Population - Both sexes     1000 persons  38924.00   \n",
      "1                    Domestic supply quantity      1000 tonnes      0.00   \n",
      "2               Food supply (kcal/capita/day)  kcal/capita/day   3377.00   \n",
      "3      Protein supply quantity (g/capita/day)     g/capita/day     94.90   \n",
      "4          Fat supply quantity (g/capita/day)     g/capita/day     80.06   \n",
      "...                                       ...              ...       ...   \n",
      "60938                                    Food      1000 tonnes     42.00   \n",
      "60939     Food supply quantity (kg/capita/yr)               kg      3.06   \n",
      "60940           Food supply (kcal/capita/day)  kcal/capita/day      3.00   \n",
      "60941  Protein supply quantity (g/capita/day)     g/capita/day      0.10   \n",
      "60942      Fat supply quantity (g/capita/day)     g/capita/day      0.04   \n",
      "\n",
      "          Y2015     Y2016     Y2017     Y2018  \n",
      "0      39728.00  40551.00  41389.00  42228.00  \n",
      "1          0.00      0.00      0.00      0.00  \n",
      "2       3379.00   3372.00   3341.00   3322.00  \n",
      "3         94.35     94.72     92.82     91.83  \n",
      "4         79.36     77.40     80.19     77.28  \n",
      "...         ...       ...       ...       ...  \n",
      "60938     46.00     33.00     19.00     16.00  \n",
      "60939      3.33      2.35      1.33      1.08  \n",
      "60940      4.00      3.00      1.00      1.00  \n",
      "60941      0.11      0.08      0.04      0.04  \n",
      "60942      0.05      0.03      0.02      0.01  \n",
      "\n",
      "[60943 rows x 12 columns]\n"
     ]
    }
   ],
   "source": [
    "print(data)"
   ]
  },
  {
   "cell_type": "code",
   "execution_count": 20,
   "id": "3e1f63f5",
   "metadata": {},
   "outputs": [
    {
     "name": "stdout",
     "output_type": "stream",
     "text": [
      "1589\n",
      "2.607\n"
     ]
    }
   ],
   "source": [
    "#Question 2\n",
    "\n",
    "missing_data = data[\"Y2014\"].isnull().sum()\n",
    "total = data[\"Y2014\"].size\n",
    "\n",
    "#Number of missing data in Y2014\n",
    "print(missing_data)\n",
    "\n",
    "#Percentage of missing in Y2014\n",
    "result = (missing_data/total) * 100\n",
    "print(f\"{result:.3f}\")"
   ]
  },
  {
   "cell_type": "code",
   "execution_count": 33,
   "id": "ebc25b14",
   "metadata": {},
   "outputs": [
    {
     "name": "stdout",
     "output_type": "stream",
     "text": [
      "                                  Y2017\n",
      "Area                                   \n",
      "Sudan (former)                     0.00\n",
      "Ethiopia PDR                       0.00\n",
      "Comoros                           59.84\n",
      "Seychelles                       442.34\n",
      "Sao Tome and Principe          12662.63\n",
      "Cabo Verde                     14650.74\n",
      "Guinea-Bissau                  19102.77\n",
      "Lesotho                        21267.96\n",
      "Botswana                       22101.30\n",
      "Djibouti                       22729.91\n",
      "Gambia                         23154.18\n",
      "Gabon                          27979.64\n",
      "Liberia                        29342.20\n",
      "Namibia                        29874.89\n",
      "Central African Republic       29937.00\n",
      "Congo                          41181.68\n",
      "Togo                           49841.88\n",
      "Mauritius                      51114.83\n",
      "Eswatini                       54343.33\n",
      "Sierra Leone                   55311.33\n",
      "Chad                           71594.68\n",
      "Rwanda                         73663.69\n",
      "Zimbabwe                       75919.34\n",
      "Senegal                        95681.15\n",
      "Guinea                         98138.87\n",
      "Burkina Faso                  101855.07\n",
      "Zambia                        103223.77\n",
      "Tunisia                       124167.20\n",
      "Benin                         124771.22\n",
      "Niger                         126707.58\n",
      "Madagascar                    131197.73\n",
      "Mali                          149928.33\n",
      "Mauritania                    156665.46\n",
      "Mozambique                    161407.98\n",
      "Malawi                        181098.71\n",
      "Uganda                        213950.38\n",
      "Côte d'Ivoire                 224599.01\n",
      "Angola                        229159.57\n",
      "Cameroon                      232030.43\n",
      "Sudan                         239931.92\n",
      "Kenya                         264660.66\n",
      "United Republic of Tanzania   322616.85\n",
      "Algeria                       325644.27\n",
      "Ghana                         337599.06\n",
      "Morocco                       388495.36\n",
      "Ethiopia                      448683.76\n",
      "South Africa                  517590.54\n",
      "Egypt                         866379.92\n",
      "Nigeria                      1483268.23\n"
     ]
    }
   ],
   "source": [
    "#Question 3\n",
    "\n",
    "grouped_data = data[[\"Y2017\",\"Area\"]].groupby(\"Area\").sum()\n",
    "\n",
    "print(grouped_data.sort_values(by=\"Y2017\", ascending=True))"
   ]
  },
  {
   "cell_type": "code",
   "execution_count": 39,
   "id": "09aa29bb",
   "metadata": {},
   "outputs": [
    {
     "name": "stdout",
     "output_type": "stream",
     "text": [
      "               Y2017\n",
      "Element             \n",
      "Processing  292836.0\n"
     ]
    }
   ],
   "source": [
    "#Question 4\n",
    "\n",
    "#subset the data for where element equals processing\n",
    "grouped_data1 = data[data[\"Element\"] == \"Processing\"]\n",
    "\n",
    "#subsetting further and then performing the groupby operation\n",
    "print(grouped_data1[[\"Element\", \"Y2017\"]].groupby(\"Element\").sum())"
   ]
  },
  {
   "cell_type": "code",
   "execution_count": 103,
   "id": "5030c195",
   "metadata": {},
   "outputs": [
    {
     "name": "stdout",
     "output_type": "stream",
     "text": [
      "['Total Population - Both sexes' 'Domestic supply quantity'\n",
      " 'Food supply (kcal/capita/day)' 'Protein supply quantity (g/capita/day)'\n",
      " 'Fat supply quantity (g/capita/day)' 'Production' 'Import Quantity'\n",
      " 'Stock Variation' 'Export Quantity' 'Feed' 'Seed' 'Losses' 'Processing'\n",
      " 'Other uses (non-food)' 'Residuals' 'Food'\n",
      " 'Food supply quantity (kg/capita/yr)' 'Tourist consumption']\n"
     ]
    }
   ],
   "source": [
    "print(data[\"Element\"].unique())"
   ]
  },
  {
   "cell_type": "code",
   "execution_count": 104,
   "id": "05818c4d",
   "metadata": {
    "scrolled": false
   },
   "outputs": [
    {
     "name": "stdout",
     "output_type": "stream",
     "text": [
      "Y2015    173.05\n",
      "Name: Madagascar, dtype: float64\n"
     ]
    }
   ],
   "source": [
    "#Question 6\n",
    "#subsetting the data for rows where element is Protein supply quantity (g/capita/day)\n",
    "grouped_data2 = data[data[\"Element\"] == \"Protein supply quantity (g/capita/day)\"]\n",
    "\n",
    "print(grouped_data2[[\"Area\", \"Y2015\"]].groupby(\"Area\").sum().loc[\"Madagascar\"])"
   ]
  },
  {
   "cell_type": "code",
   "execution_count": 105,
   "id": "a3aee6e9",
   "metadata": {},
   "outputs": [
    {
     "name": "stdout",
     "output_type": "stream",
     "text": [
      "Y2017    1483268.23\n",
      "Name: Nigeria, dtype: float64\n"
     ]
    }
   ],
   "source": [
    "#Question 7\n",
    "\n",
    "grouped_data3 = data[[\"Y2017\", \"Area\"]].groupby(\"Area\").sum()\n",
    "\n",
    "print(grouped_data3.sort_values(by=\"Y2017\", ascending=False).iloc[0])"
   ]
  },
  {
   "cell_type": "code",
   "execution_count": 106,
   "id": "1ac0d583",
   "metadata": {},
   "outputs": [
    {
     "name": "stdout",
     "output_type": "stream",
     "text": [
      "       Area Code  Item Code  Element Code      Y2014      Y2015      Y2016  \\\n",
      "count   60943.00   60943.00      60943.00   59354.00   59395.00   59408.00   \n",
      "mean      134.27    2687.18       3814.86     134.20     135.24     136.56   \n",
      "std        72.61     146.06       2212.01    1567.66    1603.40    1640.01   \n",
      "min         4.00    2501.00        511.00   -1796.00   -3161.00   -3225.00   \n",
      "25%        74.00    2562.00        684.00       0.00       0.00       0.00   \n",
      "50%       136.00    2630.00       5142.00       0.09       0.08       0.08   \n",
      "75%       195.00    2775.00       5511.00       8.34       8.46       8.43   \n",
      "max       276.00    2961.00       5911.00  176405.00  181137.00  185960.00   \n",
      "\n",
      "           Y2017      Y2018  \n",
      "count   59437.00   59507.00  \n",
      "mean      140.92     143.76  \n",
      "std      1671.86    1710.78  \n",
      "min     -1582.00   -3396.00  \n",
      "25%         0.00       0.00  \n",
      "50%         0.10       0.07  \n",
      "75%         9.00       9.00  \n",
      "max    190873.00  195875.00  \n"
     ]
    }
   ],
   "source": [
    "#Question 8\n",
    "\n",
    "print(data.describe().round(2))"
   ]
  },
  {
   "cell_type": "code",
   "execution_count": 107,
   "id": "c835a077",
   "metadata": {},
   "outputs": [
    {
     "name": "stdout",
     "output_type": "stream",
     "text": [
      "e\n"
     ]
    }
   ],
   "source": [
    "#Question 9\n",
    "S = [['him', 'sell'], [90, 28, 43]]\n",
    "\n",
    "print(S[0][1][1])"
   ]
  },
  {
   "cell_type": "code",
   "execution_count": 108,
   "id": "b232428c",
   "metadata": {},
   "outputs": [
    {
     "name": "stdout",
     "output_type": "stream",
     "text": [
      "Y2014    58749.83\n",
      "Y2015    34910.99\n",
      "Y2016    33140.12\n",
      "Y2017    54316.91\n",
      "Y2018    20577.91\n",
      "dtype: float64\n"
     ]
    }
   ],
   "source": [
    "#Question 10\n",
    "\n",
    "group_data = data[data[\"Element\"]==\"Stock Variation\"]\n",
    "\n",
    "print(group_data[[\"Element\", \n",
    "           \"Y2014\", \"Y2015\", \"Y2016\", \"Y2017\", \"Y2018\"]].groupby(\"Element\").sum().max())"
   ]
  },
  {
   "cell_type": "code",
   "execution_count": 109,
   "id": "3f366216",
   "metadata": {},
   "outputs": [
    {
     "name": "stdout",
     "output_type": "stream",
     "text": [
      "8\n"
     ]
    }
   ],
   "source": [
    "#Question 11\n",
    "y = [(2, 4), (7, 8), (1, 5, 9)]\n",
    "\n",
    "print(y[1][1])"
   ]
  },
  {
   "cell_type": "code",
   "execution_count": 110,
   "id": "21e2d2fa",
   "metadata": {},
   "outputs": [
    {
     "name": "stdout",
     "output_type": "stream",
     "text": [
      "(60943, 12)\n"
     ]
    }
   ],
   "source": [
    "#Question 12\n",
    "\n",
    "print(data.shape)\n",
    "\n",
    "#df.shape"
   ]
  },
  {
   "cell_type": "code",
   "execution_count": 111,
   "id": "f76e8224",
   "metadata": {},
   "outputs": [
    {
     "name": "stdout",
     "output_type": "stream",
     "text": [
      "49\n"
     ]
    }
   ],
   "source": [
    "#Question 13\n",
    "\n",
    "print(len(data[\"Area\"].unique()))"
   ]
  },
  {
   "cell_type": "code",
   "execution_count": 112,
   "id": "7dcdd739",
   "metadata": {},
   "outputs": [
    {
     "data": {
      "text/plain": [
       "[[94, 89, 63], [93, 92, 48]]"
      ]
     },
     "execution_count": 112,
     "metadata": {},
     "output_type": "execute_result"
    }
   ],
   "source": [
    "#Question 14\n",
    "array  = [[94, 89, 63],\n",
    "\n",
    "             [93, 92, 48],\n",
    "\n",
    "             [92, 94, 56]]\n",
    "\n",
    "array[:2]\n",
    "\n",
    "#correct answer should be array[:2, 1:]"
   ]
  },
  {
   "cell_type": "code",
   "execution_count": 113,
   "id": "9b198fec",
   "metadata": {},
   "outputs": [
    {
     "name": "stdout",
     "output_type": "stream",
     "text": [
      "   Age Nationality  Overall\n",
      "1   35    Portugal       94\n",
      "2   33   Argentina       93\n",
      "3   30      Brazil       92\n"
     ]
    }
   ],
   "source": [
    "#Question 17\n",
    "lst = [[35, 'Portugal', 94], [33, 'Argentina', 93], [30 , 'Brazil', 92]]\n",
    "\n",
    "col = [\"Age\",\"Nationality\",\"Overall\"]\n",
    "\n",
    "print(pd.DataFrame(lst, columns = col, index = [i for i in range(1,4)]))"
   ]
  },
  {
   "cell_type": "code",
   "execution_count": 114,
   "id": "4d3482de",
   "metadata": {},
   "outputs": [
    {
     "ename": "TypeError",
     "evalue": "'tuple' object does not support item assignment",
     "output_type": "error",
     "traceback": [
      "\u001b[1;31m---------------------------------------------------------------------------\u001b[0m",
      "\u001b[1;31mTypeError\u001b[0m                                 Traceback (most recent call last)",
      "\u001b[1;32m~\\AppData\\Local\\Temp/ipykernel_9740/3167683142.py\u001b[0m in \u001b[0;36m<module>\u001b[1;34m\u001b[0m\n\u001b[0;32m      2\u001b[0m \u001b[0mmy_tuppy\u001b[0m \u001b[1;33m=\u001b[0m \u001b[1;33m(\u001b[0m\u001b[1;36m1\u001b[0m\u001b[1;33m,\u001b[0m\u001b[1;36m2\u001b[0m\u001b[1;33m,\u001b[0m\u001b[1;36m5\u001b[0m\u001b[1;33m,\u001b[0m\u001b[1;36m8\u001b[0m\u001b[1;33m)\u001b[0m\u001b[1;33m\u001b[0m\u001b[1;33m\u001b[0m\u001b[0m\n\u001b[0;32m      3\u001b[0m \u001b[1;33m\u001b[0m\u001b[0m\n\u001b[1;32m----> 4\u001b[1;33m \u001b[0mmy_tuppy\u001b[0m\u001b[1;33m[\u001b[0m\u001b[1;36m2\u001b[0m\u001b[1;33m]\u001b[0m \u001b[1;33m=\u001b[0m \u001b[1;36m6\u001b[0m\u001b[1;33m\u001b[0m\u001b[1;33m\u001b[0m\u001b[0m\n\u001b[0m\u001b[0;32m      5\u001b[0m \u001b[1;33m\u001b[0m\u001b[0m\n\u001b[0;32m      6\u001b[0m \u001b[1;31m#we get a TypeError which is the answer\u001b[0m\u001b[1;33m\u001b[0m\u001b[1;33m\u001b[0m\u001b[0m\n",
      "\u001b[1;31mTypeError\u001b[0m: 'tuple' object does not support item assignment"
     ]
    }
   ],
   "source": [
    "#Question 18\n",
    "my_tuppy = (1,2,5,8)\n",
    "\n",
    "my_tuppy[2] = 6\n",
    "\n",
    "#we get a TypeError which is the answer"
   ]
  },
  {
   "cell_type": "code",
   "execution_count": 115,
   "id": "7e7a3ef2",
   "metadata": {},
   "outputs": [],
   "source": [
    "#Question 20\n",
    "\n",
    "grouped = data[data[\"Item\"] == \"Wine\"]"
   ]
  },
  {
   "cell_type": "code",
   "execution_count": 102,
   "id": "094d19b9",
   "metadata": {
    "scrolled": false
   },
   "outputs": [
    {
     "name": "stdout",
     "output_type": "stream",
     "text": [
      "        Y2015    Y2018\n",
      "Item                  \n",
      "Wine  4251.81  4039.32\n"
     ]
    }
   ],
   "source": [
    "print(grouped[[\"Item\", \"Y2015\", \"Y2018\"]].groupby(\"Item\").sum())"
   ]
  },
  {
   "cell_type": "code",
   "execution_count": null,
   "id": "2719cb6e",
   "metadata": {},
   "outputs": [],
   "source": []
  },
  {
   "cell_type": "code",
   "execution_count": null,
   "id": "1e0005ea",
   "metadata": {},
   "outputs": [],
   "source": []
  },
  {
   "cell_type": "code",
   "execution_count": null,
   "id": "2238c55c",
   "metadata": {},
   "outputs": [],
   "source": []
  },
  {
   "cell_type": "code",
   "execution_count": null,
   "id": "cb31a94e",
   "metadata": {},
   "outputs": [],
   "source": []
  },
  {
   "cell_type": "code",
   "execution_count": null,
   "id": "3ab67795",
   "metadata": {},
   "outputs": [],
   "source": []
  },
  {
   "cell_type": "code",
   "execution_count": null,
   "id": "b50dfaba",
   "metadata": {},
   "outputs": [],
   "source": []
  },
  {
   "cell_type": "code",
   "execution_count": null,
   "id": "2eff34af",
   "metadata": {},
   "outputs": [],
   "source": []
  }
 ],
 "metadata": {
  "kernelspec": {
   "display_name": "Python 3 (ipykernel)",
   "language": "python",
   "name": "python3"
  },
  "language_info": {
   "codemirror_mode": {
    "name": "ipython",
    "version": 3
   },
   "file_extension": ".py",
   "mimetype": "text/x-python",
   "name": "python",
   "nbconvert_exporter": "python",
   "pygments_lexer": "ipython3",
   "version": "3.9.7"
  }
 },
 "nbformat": 4,
 "nbformat_minor": 5
}
